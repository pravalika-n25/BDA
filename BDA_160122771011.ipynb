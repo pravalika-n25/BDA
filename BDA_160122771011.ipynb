{
  "nbformat": 4,
  "nbformat_minor": 0,
  "metadata": {
    "colab": {
      "provenance": [],
      "gpuType": "T4",
      "collapsed_sections": [
        "uuU1MGg7nmSC",
        "FXbZaNQUipqT",
        "8GgFrBlti8fF",
        "Wlr2sZbSk7LM"
      ],
      "authorship_tag": "ABX9TyN1G3irUapODiqIWfrRJgN4",
      "include_colab_link": true
    },
    "kernelspec": {
      "name": "python3",
      "display_name": "Python 3"
    },
    "language_info": {
      "name": "python"
    },
    "accelerator": "GPU"
  },
  "cells": [
    {
      "cell_type": "markdown",
      "metadata": {
        "id": "view-in-github",
        "colab_type": "text"
      },
      "source": [
        "<a href=\"https://colab.research.google.com/github/pravalika-n25/BDA/blob/main/BDA_160122771011.ipynb\" target=\"_parent\"><img src=\"https://colab.research.google.com/assets/colab-badge.svg\" alt=\"Open In Colab\"/></a>"
      ]
    },
    {
      "cell_type": "markdown",
      "source": [
        "# ***BDA ASSIGNMENT-2 ~ 160122771011***"
      ],
      "metadata": {
        "id": "k6JfBhJzoLdR"
      }
    },
    {
      "cell_type": "markdown",
      "source": [
        "# **Initializing spark session and Loading Wine quality dataset into colab.**"
      ],
      "metadata": {
        "id": "uuU1MGg7nmSC"
      }
    },
    {
      "cell_type": "code",
      "source": [
        "#initializing spark session\n",
        "from pyspark.sql import SparkSession\n",
        "\n",
        "try:\n",
        "    spark = SparkSession.builder \\\n",
        "        .appName(\"ClassificationModel\") \\\n",
        "        .getOrCreate()\n",
        "    spark.sparkContext.setLogLevel(\"ERROR\")\n",
        "    print(\"Spark session initialized successfully.\")\n",
        "except Exception as e:\n",
        "    print(f\"Error initializing Spark session: {e}\")\n",
        "    exit(1)"
      ],
      "metadata": {
        "colab": {
          "base_uri": "https://localhost:8080/"
        },
        "id": "kfeupV4td3r2",
        "outputId": "c405fc1b-4eb3-4866-d459-04310d9c9f24"
      },
      "execution_count": 11,
      "outputs": [
        {
          "output_type": "stream",
          "name": "stdout",
          "text": [
            "Spark session initialized successfully.\n"
          ]
        }
      ]
    },
    {
      "cell_type": "code",
      "source": [
        "from google.colab import files\n",
        "uploaded = files.upload()\n",
        "\n",
        "file_path = '/content/WineQT.csv'\n",
        "\n",
        "#reading the dataset using Spark\n",
        "df = spark.read.csv(file_path, header=True, inferSchema=True)\n",
        "\n",
        "#Show the first few rows of the dataset\n",
        "df.show(5)"
      ],
      "metadata": {
        "colab": {
          "base_uri": "https://localhost:8080/",
          "height": 291
        },
        "id": "kM3DwxLWc0X0",
        "outputId": "e4a532da-8db4-4fd2-c3c6-31edfccc0d5f"
      },
      "execution_count": 12,
      "outputs": [
        {
          "output_type": "display_data",
          "data": {
            "text/plain": [
              "<IPython.core.display.HTML object>"
            ],
            "text/html": [
              "\n",
              "     <input type=\"file\" id=\"files-9568fd16-ce3c-4574-b304-84d6816288d0\" name=\"files[]\" multiple disabled\n",
              "        style=\"border:none\" />\n",
              "     <output id=\"result-9568fd16-ce3c-4574-b304-84d6816288d0\">\n",
              "      Upload widget is only available when the cell has been executed in the\n",
              "      current browser session. Please rerun this cell to enable.\n",
              "      </output>\n",
              "      <script>// Copyright 2017 Google LLC\n",
              "//\n",
              "// Licensed under the Apache License, Version 2.0 (the \"License\");\n",
              "// you may not use this file except in compliance with the License.\n",
              "// You may obtain a copy of the License at\n",
              "//\n",
              "//      http://www.apache.org/licenses/LICENSE-2.0\n",
              "//\n",
              "// Unless required by applicable law or agreed to in writing, software\n",
              "// distributed under the License is distributed on an \"AS IS\" BASIS,\n",
              "// WITHOUT WARRANTIES OR CONDITIONS OF ANY KIND, either express or implied.\n",
              "// See the License for the specific language governing permissions and\n",
              "// limitations under the License.\n",
              "\n",
              "/**\n",
              " * @fileoverview Helpers for google.colab Python module.\n",
              " */\n",
              "(function(scope) {\n",
              "function span(text, styleAttributes = {}) {\n",
              "  const element = document.createElement('span');\n",
              "  element.textContent = text;\n",
              "  for (const key of Object.keys(styleAttributes)) {\n",
              "    element.style[key] = styleAttributes[key];\n",
              "  }\n",
              "  return element;\n",
              "}\n",
              "\n",
              "// Max number of bytes which will be uploaded at a time.\n",
              "const MAX_PAYLOAD_SIZE = 100 * 1024;\n",
              "\n",
              "function _uploadFiles(inputId, outputId) {\n",
              "  const steps = uploadFilesStep(inputId, outputId);\n",
              "  const outputElement = document.getElementById(outputId);\n",
              "  // Cache steps on the outputElement to make it available for the next call\n",
              "  // to uploadFilesContinue from Python.\n",
              "  outputElement.steps = steps;\n",
              "\n",
              "  return _uploadFilesContinue(outputId);\n",
              "}\n",
              "\n",
              "// This is roughly an async generator (not supported in the browser yet),\n",
              "// where there are multiple asynchronous steps and the Python side is going\n",
              "// to poll for completion of each step.\n",
              "// This uses a Promise to block the python side on completion of each step,\n",
              "// then passes the result of the previous step as the input to the next step.\n",
              "function _uploadFilesContinue(outputId) {\n",
              "  const outputElement = document.getElementById(outputId);\n",
              "  const steps = outputElement.steps;\n",
              "\n",
              "  const next = steps.next(outputElement.lastPromiseValue);\n",
              "  return Promise.resolve(next.value.promise).then((value) => {\n",
              "    // Cache the last promise value to make it available to the next\n",
              "    // step of the generator.\n",
              "    outputElement.lastPromiseValue = value;\n",
              "    return next.value.response;\n",
              "  });\n",
              "}\n",
              "\n",
              "/**\n",
              " * Generator function which is called between each async step of the upload\n",
              " * process.\n",
              " * @param {string} inputId Element ID of the input file picker element.\n",
              " * @param {string} outputId Element ID of the output display.\n",
              " * @return {!Iterable<!Object>} Iterable of next steps.\n",
              " */\n",
              "function* uploadFilesStep(inputId, outputId) {\n",
              "  const inputElement = document.getElementById(inputId);\n",
              "  inputElement.disabled = false;\n",
              "\n",
              "  const outputElement = document.getElementById(outputId);\n",
              "  outputElement.innerHTML = '';\n",
              "\n",
              "  const pickedPromise = new Promise((resolve) => {\n",
              "    inputElement.addEventListener('change', (e) => {\n",
              "      resolve(e.target.files);\n",
              "    });\n",
              "  });\n",
              "\n",
              "  const cancel = document.createElement('button');\n",
              "  inputElement.parentElement.appendChild(cancel);\n",
              "  cancel.textContent = 'Cancel upload';\n",
              "  const cancelPromise = new Promise((resolve) => {\n",
              "    cancel.onclick = () => {\n",
              "      resolve(null);\n",
              "    };\n",
              "  });\n",
              "\n",
              "  // Wait for the user to pick the files.\n",
              "  const files = yield {\n",
              "    promise: Promise.race([pickedPromise, cancelPromise]),\n",
              "    response: {\n",
              "      action: 'starting',\n",
              "    }\n",
              "  };\n",
              "\n",
              "  cancel.remove();\n",
              "\n",
              "  // Disable the input element since further picks are not allowed.\n",
              "  inputElement.disabled = true;\n",
              "\n",
              "  if (!files) {\n",
              "    return {\n",
              "      response: {\n",
              "        action: 'complete',\n",
              "      }\n",
              "    };\n",
              "  }\n",
              "\n",
              "  for (const file of files) {\n",
              "    const li = document.createElement('li');\n",
              "    li.append(span(file.name, {fontWeight: 'bold'}));\n",
              "    li.append(span(\n",
              "        `(${file.type || 'n/a'}) - ${file.size} bytes, ` +\n",
              "        `last modified: ${\n",
              "            file.lastModifiedDate ? file.lastModifiedDate.toLocaleDateString() :\n",
              "                                    'n/a'} - `));\n",
              "    const percent = span('0% done');\n",
              "    li.appendChild(percent);\n",
              "\n",
              "    outputElement.appendChild(li);\n",
              "\n",
              "    const fileDataPromise = new Promise((resolve) => {\n",
              "      const reader = new FileReader();\n",
              "      reader.onload = (e) => {\n",
              "        resolve(e.target.result);\n",
              "      };\n",
              "      reader.readAsArrayBuffer(file);\n",
              "    });\n",
              "    // Wait for the data to be ready.\n",
              "    let fileData = yield {\n",
              "      promise: fileDataPromise,\n",
              "      response: {\n",
              "        action: 'continue',\n",
              "      }\n",
              "    };\n",
              "\n",
              "    // Use a chunked sending to avoid message size limits. See b/62115660.\n",
              "    let position = 0;\n",
              "    do {\n",
              "      const length = Math.min(fileData.byteLength - position, MAX_PAYLOAD_SIZE);\n",
              "      const chunk = new Uint8Array(fileData, position, length);\n",
              "      position += length;\n",
              "\n",
              "      const base64 = btoa(String.fromCharCode.apply(null, chunk));\n",
              "      yield {\n",
              "        response: {\n",
              "          action: 'append',\n",
              "          file: file.name,\n",
              "          data: base64,\n",
              "        },\n",
              "      };\n",
              "\n",
              "      let percentDone = fileData.byteLength === 0 ?\n",
              "          100 :\n",
              "          Math.round((position / fileData.byteLength) * 100);\n",
              "      percent.textContent = `${percentDone}% done`;\n",
              "\n",
              "    } while (position < fileData.byteLength);\n",
              "  }\n",
              "\n",
              "  // All done.\n",
              "  yield {\n",
              "    response: {\n",
              "      action: 'complete',\n",
              "    }\n",
              "  };\n",
              "}\n",
              "\n",
              "scope.google = scope.google || {};\n",
              "scope.google.colab = scope.google.colab || {};\n",
              "scope.google.colab._files = {\n",
              "  _uploadFiles,\n",
              "  _uploadFilesContinue,\n",
              "};\n",
              "})(self);\n",
              "</script> "
            ]
          },
          "metadata": {}
        },
        {
          "output_type": "stream",
          "name": "stdout",
          "text": [
            "Saving WineQT.csv to WineQT (2).csv\n",
            "+-------------+----------------+-----------+--------------+---------+-------------------+--------------------+-------+----+---------+-------+-------+---+\n",
            "|fixed acidity|volatile acidity|citric acid|residual sugar|chlorides|free sulfur dioxide|total sulfur dioxide|density|  pH|sulphates|alcohol|quality| Id|\n",
            "+-------------+----------------+-----------+--------------+---------+-------------------+--------------------+-------+----+---------+-------+-------+---+\n",
            "|          7.4|             0.7|        0.0|           1.9|    0.076|               11.0|                34.0| 0.9978|3.51|     0.56|    9.4|      5|  0|\n",
            "|          7.8|            0.88|        0.0|           2.6|    0.098|               25.0|                67.0| 0.9968| 3.2|     0.68|    9.8|      5|  1|\n",
            "|          7.8|            0.76|       0.04|           2.3|    0.092|               15.0|                54.0|  0.997|3.26|     0.65|    9.8|      5|  2|\n",
            "|         11.2|            0.28|       0.56|           1.9|    0.075|               17.0|                60.0|  0.998|3.16|     0.58|    9.8|      6|  3|\n",
            "|          7.4|             0.7|        0.0|           1.9|    0.076|               11.0|                34.0| 0.9978|3.51|     0.56|    9.4|      5|  4|\n",
            "+-------------+----------------+-----------+--------------+---------+-------------------+--------------------+-------+----+---------+-------+-------+---+\n",
            "only showing top 5 rows\n",
            "\n"
          ]
        }
      ]
    },
    {
      "cell_type": "markdown",
      "source": [
        "#**1) Build a Classification Model with Spark with a dataset of your choice.**"
      ],
      "metadata": {
        "id": "FXbZaNQUipqT"
      }
    },
    {
      "cell_type": "code",
      "execution_count": 13,
      "metadata": {
        "colab": {
          "base_uri": "https://localhost:8080/"
        },
        "id": "mu2LLhV8m0Xu",
        "outputId": "57f71288-c16b-4dc0-89bc-b49382ac9893"
      },
      "outputs": [
        {
          "output_type": "stream",
          "name": "stdout",
          "text": [
            "Accuracy: 1.00\n"
          ]
        }
      ],
      "source": [
        "from pyspark.ml.classification import LogisticRegression\n",
        "from pyspark.ml.feature import VectorAssembler\n",
        "from pyspark.ml import Pipeline\n",
        "from pyspark.ml.evaluation import BinaryClassificationEvaluator\n",
        "\n",
        "#Prepare features and label columns (excluding 'quality' and 'Id')\n",
        "feature_columns = [col for col in df.columns if col not in ['quality', 'Id']]\n",
        "\n",
        "#Initialize VectorAssembler\n",
        "assembler = VectorAssembler(inputCols=feature_columns, outputCol='features')\n",
        "\n",
        "#Initialize Logistic Regression model\n",
        "lr = LogisticRegression(labelCol='quality', featuresCol='features')\n",
        "\n",
        "#Creating a pipeline with assembler and logistic regression stages\n",
        "pipeline = Pipeline(stages=[assembler, lr])\n",
        "\n",
        "#Splitting data into training and testing sets (80% training, 20% testing)\n",
        "train_data, test_data = df.randomSplit([0.8, 0.2], seed=1234)\n",
        "\n",
        "#Fit the pipeline model using the training data\n",
        "model = pipeline.fit(train_data)\n",
        "\n",
        "#Making predictions on the test data\n",
        "predictions = model.transform(test_data)\n",
        "\n",
        "#Evaluate the model's performance using accuracy\n",
        "evaluator = BinaryClassificationEvaluator(labelCol='quality', rawPredictionCol='prediction')\n",
        "accuracy = evaluator.evaluate(predictions)\n",
        "print(f\"Accuracy: {accuracy:.2f}\")"
      ]
    },
    {
      "cell_type": "markdown",
      "source": [
        "#**2) Build a Clustering Model with Spark with a dataset of your choice.**"
      ],
      "metadata": {
        "id": "8GgFrBlti8fF"
      }
    },
    {
      "cell_type": "code",
      "source": [
        "from pyspark.ml.clustering import KMeans\n",
        "from pyspark.ml.feature import VectorAssembler\n",
        "from pyspark.ml import Pipeline\n",
        "from pyspark.ml.evaluation import ClusteringEvaluator\n",
        "\n",
        "#Prepare features and label columns (excluding 'quality' and 'Id')\n",
        "feature_columns = [col for col in df.columns if col not in ['quality', 'Id']]\n",
        "\n",
        "#Initialize VectorAssembler to create 'features' column\n",
        "assembler = VectorAssembler(inputCols=feature_columns, outputCol='features')\n",
        "\n",
        "#Initialize KMeans model (k=3, you can change k depending on the dataset)\n",
        "kmeans = KMeans(k=3, seed=1234, featuresCol='features', predictionCol='prediction')\n",
        "\n",
        "#Creating a pipeline with assembler and KMeans model\n",
        "pipeline = Pipeline(stages=[assembler, kmeans])\n",
        "\n",
        "#Splitting data into training and testing sets (80% training, 20% testing)\n",
        "train_data, test_data = df.randomSplit([0.8, 0.2], seed=1234)\n",
        "\n",
        "#Fit the pipeline model using the training data\n",
        "model = pipeline.fit(train_data)\n",
        "\n",
        "#Make predictions on the test data\n",
        "predictions = model.transform(test_data)\n",
        "\n",
        "#Evaluate the clustering performance using ClusteringEvaluator\n",
        "evaluator = ClusteringEvaluator(predictionCol='prediction', featuresCol='features')\n",
        "\n",
        "silhouette_score = evaluator.evaluate(predictions)\n",
        "print(f\"Silhouette Score: {silhouette_score:.2f}\")"
      ],
      "metadata": {
        "colab": {
          "base_uri": "https://localhost:8080/"
        },
        "id": "QaPPzkEBnHAH",
        "outputId": "827bfab7-694f-4912-c9af-659087e0c2f7"
      },
      "execution_count": 14,
      "outputs": [
        {
          "output_type": "stream",
          "name": "stdout",
          "text": [
            "Silhouette Score: 0.77\n"
          ]
        }
      ]
    },
    {
      "cell_type": "markdown",
      "source": [
        "#**3) Build a Recommendation Engine with Spark with a dataset of your choice.**"
      ],
      "metadata": {
        "id": "Wlr2sZbSk7LM"
      }
    },
    {
      "cell_type": "code",
      "source": [
        "from pyspark.sql import SparkSession\n",
        "from pyspark.ml.feature import VectorAssembler, BucketedRandomProjectionLSH\n",
        "from pyspark.sql.functions import col\n",
        "\n",
        "#Initialising Spark session\n",
        "spark = SparkSession.builder \\\n",
        "    .appName(\"WineContentBasedRec\") \\\n",
        "    .getOrCreate()\n",
        "\n",
        "#Loading and inspecting the data\n",
        "df = spark.read.csv('/content/WineQT (1).csv', header=True, inferSchema=True)\n",
        "df.printSchema()\n",
        "\n",
        "#Assembling the numeric features into a vector\n",
        "feature_cols = [\n",
        "    'fixed acidity','volatile acidity','citric acid','residual sugar',\n",
        "    'chlorides','free sulfur dioxide','total sulfur dioxide',\n",
        "    'density','pH','sulphates','alcohol'\n",
        "]\n",
        "assembler = VectorAssembler(inputCols=feature_cols, outputCol='features')\n",
        "dataset = assembler.transform(df).select(col('Id').alias('itemId'), 'features')\n",
        "\n",
        "#Fit an LSH model for approximate nearest-neighbor search\n",
        "lsh = BucketedRandomProjectionLSH(\n",
        "    inputCol='features',\n",
        "    outputCol='hashes',\n",
        "    bucketLength=1.0,\n",
        "    numHashTables=5\n",
        ")\n",
        "lsh_model = lsh.fit(dataset)\n",
        "\n",
        "#Pick a “query” wine (e.g. itemId = 1) and get its feature vector\n",
        "query_vec = dataset.filter(col('itemId') == 1).select('features').head()[0]\n",
        "\n",
        "#Find the 5 most similar wines (including itself)\n",
        "neighbors = lsh_model.approxNearestNeighbors(dataset, query_vec, 6)\n",
        "\n",
        "#Show recommendations (drop the query wine itself)\n",
        "neighbors.filter(col('itemId') != 1).orderBy('distCol').select('itemId','distCol').show(5)"
      ],
      "metadata": {
        "colab": {
          "base_uri": "https://localhost:8080/"
        },
        "id": "-ow__EP6l5G0",
        "outputId": "a699f974-5d8f-4d3b-d1b9-9be82017b278"
      },
      "execution_count": 15,
      "outputs": [
        {
          "output_type": "stream",
          "name": "stdout",
          "text": [
            "root\n",
            " |-- fixed acidity: double (nullable = true)\n",
            " |-- volatile acidity: double (nullable = true)\n",
            " |-- citric acid: double (nullable = true)\n",
            " |-- residual sugar: double (nullable = true)\n",
            " |-- chlorides: double (nullable = true)\n",
            " |-- free sulfur dioxide: double (nullable = true)\n",
            " |-- total sulfur dioxide: double (nullable = true)\n",
            " |-- density: double (nullable = true)\n",
            " |-- pH: double (nullable = true)\n",
            " |-- sulphates: double (nullable = true)\n",
            " |-- alcohol: double (nullable = true)\n",
            " |-- quality: integer (nullable = true)\n",
            " |-- Id: integer (nullable = true)\n",
            "\n",
            "+------+------------------+\n",
            "|itemId|           distCol|\n",
            "+------+------------------+\n",
            "|   752|1.5438594827574175|\n",
            "|  1173|2.5254823558282884|\n",
            "|  1174|2.5254823558282884|\n",
            "|  1357|2.5255890604767823|\n",
            "|   796| 3.338695019854314|\n",
            "+------+------------------+\n",
            "\n"
          ]
        }
      ]
    }
  ]
}